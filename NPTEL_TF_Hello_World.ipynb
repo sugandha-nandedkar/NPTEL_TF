{
  "nbformat": 4,
  "nbformat_minor": 0,
  "metadata": {
    "colab": {
      "name": "NPTEL_TF_Hello_World.ipynb",
      "provenance": [],
      "authorship_tag": "ABX9TyP76wtYrNAcSmupOuk50hTW",
      "include_colab_link": true
    },
    "kernelspec": {
      "name": "python3",
      "display_name": "Python 3"
    }
  },
  "cells": [
    {
      "cell_type": "markdown",
      "metadata": {
        "id": "view-in-github",
        "colab_type": "text"
      },
      "source": [
        "<a href=\"https://colab.research.google.com/github/sugandha-nandedkar/NPTEL_TF/blob/master/NPTEL_TF_Hello_World.ipynb\" target=\"_parent\"><img src=\"https://colab.research.google.com/assets/colab-badge.svg\" alt=\"Open In Colab\"/></a>"
      ]
    },
    {
      "cell_type": "code",
      "metadata": {
        "id": "ihcuB0PqVU4t"
      },
      "source": [
        "import tensorflow as tf"
      ],
      "execution_count": null,
      "outputs": []
    },
    {
      "cell_type": "code",
      "metadata": {
        "id": "jnW3CcMQVhY7"
      },
      "source": [
        "mnist = tf.keras.datasets.mnist"
      ],
      "execution_count": null,
      "outputs": []
    },
    {
      "cell_type": "code",
      "metadata": {
        "id": "mwUIvO7tV0vE"
      },
      "source": [
        "(x_train,y_train),(x_test,y_test) = mnist.load_data()"
      ],
      "execution_count": null,
      "outputs": []
    },
    {
      "cell_type": "code",
      "metadata": {
        "id": "Y2_tKyxTWrtl"
      },
      "source": [
        "x_train, x_test = x_train/255.0, x_test/255.0"
      ],
      "execution_count": null,
      "outputs": []
    },
    {
      "cell_type": "code",
      "metadata": {
        "id": "93sA2UrJXvE5"
      },
      "source": [
        "# in the NPTEL course it is mentioned as first layer is Flatten as 28 * 28 matrix\n",
        "# code is tf.keras.layers.Flatten(input_shape(28, 28))\n",
        "model  = tf.keras.Sequential([\n",
        "                              tf.keras.layers.Flatten(),\n",
        "                              tf.keras.layers.Dense(128,activation='relu'),\n",
        "                              tf.keras.layers.Dropout(0.2),\n",
        "                              tf.keras.layers.Dense(10,activation='softmax')\n",
        "])"
      ],
      "execution_count": null,
      "outputs": []
    },
    {
      "cell_type": "markdown",
      "metadata": {
        "id": "cfUOvtsmcatz"
      },
      "source": [
        "Find the different optimization techques used in ANN\n",
        "Find the different optimization techniques supported by TENSORFLOW\n",
        "Find the cheet sheet for selecting appropriate optimizer"
      ]
    },
    {
      "cell_type": "code",
      "metadata": {
        "id": "6exyyE7yba_A"
      },
      "source": [
        "#model compilation using 'ADAM' :optimizer, loss as sparse_categorical_entropy and accuracy matrics\n",
        "model.compile(optimizer='adam',\n",
        "              loss = 'sparse_categorical_crossentropy',\n",
        "              metrics='accuracy')"
      ],
      "execution_count": null,
      "outputs": []
    },
    {
      "cell_type": "markdown",
      "metadata": {
        "id": "KcXH0MWzdn3D"
      },
      "source": [
        "Find the different activation functions. Find the cheet sheet for deciding the appropriate activation function for the ANN model"
      ]
    },
    {
      "cell_type": "code",
      "metadata": {
        "id": "siPzDdo0b2h5",
        "outputId": "8c01efee-0601-41f0-ad4f-0c44a483cc5b",
        "colab": {
          "base_uri": "https://localhost:8080/",
          "height": 208
        }
      },
      "source": [
        "model.fit(x_train,y_train,epochs=5)"
      ],
      "execution_count": null,
      "outputs": [
        {
          "output_type": "stream",
          "text": [
            "Epoch 1/5\n",
            "1875/1875 [==============================] - 4s 2ms/step - loss: 0.2974 - accuracy: 0.9124\n",
            "Epoch 2/5\n",
            "1875/1875 [==============================] - 4s 2ms/step - loss: 0.1427 - accuracy: 0.9578\n",
            "Epoch 3/5\n",
            "1875/1875 [==============================] - 4s 2ms/step - loss: 0.1064 - accuracy: 0.9680\n",
            "Epoch 4/5\n",
            "1875/1875 [==============================] - 4s 2ms/step - loss: 0.0881 - accuracy: 0.9718\n",
            "Epoch 5/5\n",
            "1875/1875 [==============================] - 4s 2ms/step - loss: 0.0758 - accuracy: 0.9763\n"
          ],
          "name": "stdout"
        },
        {
          "output_type": "execute_result",
          "data": {
            "text/plain": [
              "<tensorflow.python.keras.callbacks.History at 0x7f3cab9a5b70>"
            ]
          },
          "metadata": {
            "tags": []
          },
          "execution_count": 17
        }
      ]
    },
    {
      "cell_type": "code",
      "metadata": {
        "id": "k6-s4TzLd3N_",
        "outputId": "2ab8c9d7-c2fd-455b-b87b-c4e66578078f",
        "colab": {
          "base_uri": "https://localhost:8080/",
          "height": 52
        }
      },
      "source": [
        "# now evalaute the model\n",
        "model.evaluate(x_test,y_test)"
      ],
      "execution_count": null,
      "outputs": [
        {
          "output_type": "stream",
          "text": [
            "313/313 [==============================] - 0s 1ms/step - loss: 0.0740 - accuracy: 0.9787\n"
          ],
          "name": "stdout"
        },
        {
          "output_type": "execute_result",
          "data": {
            "text/plain": [
              "[0.07404006272554398, 0.9786999821662903]"
            ]
          },
          "metadata": {
            "tags": []
          },
          "execution_count": 18
        }
      ]
    }
  ]
}